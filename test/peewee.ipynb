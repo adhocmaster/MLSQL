{
 "cells": [
  {
   "cell_type": "code",
   "execution_count": 18,
   "metadata": {},
   "outputs": [],
   "source": [
    "from peewee import *\n",
    "import pandas as pd\n",
    "db = SqliteDatabase('../definitions.db')"
   ]
  },
  {
   "cell_type": "code",
   "execution_count": 27,
   "metadata": {},
   "outputs": [
    {
     "data": {
      "text/plain": [
       "True"
      ]
     },
     "execution_count": 27,
     "metadata": {},
     "output_type": "execute_result"
    }
   ],
   "source": [
    "db.close()"
   ]
  },
  {
   "cell_type": "code",
   "execution_count": 20,
   "metadata": {},
   "outputs": [],
   "source": [
    "with db:\n",
    "    cursor = db.execute_sql(\"SELECT * FROM estimator\")\n",
    "    allRows = cursor.fetchall()"
   ]
  },
  {
   "cell_type": "code",
   "execution_count": 21,
   "metadata": {},
   "outputs": [
    {
     "name": "stdout",
     "output_type": "stream",
     "text": [
      "[('salaryPredictor', '2019-05-27 17:59:34.679161', 1, 'LR', None, None, 0.001, None, None, 1), ('salaryPredictor2', '2019-05-27 18:06:49.640196', 1, 'LR', 'salary~years', None, 0.001, None, None, 1), ('salaryPredictor3', '2019-05-28 19:30:56.047145', 1, 'LR', 'salary~years', None, 0.001, None, None, 1)]\n"
     ]
    }
   ],
   "source": [
    "print(allRows)"
   ]
  },
  {
   "cell_type": "code",
   "execution_count": 23,
   "metadata": {},
   "outputs": [],
   "source": [
    "df = pd.DataFrame(allRows)"
   ]
  },
  {
   "cell_type": "code",
   "execution_count": 24,
   "metadata": {},
   "outputs": [
    {
     "data": {
      "text/html": [
       "<div>\n",
       "<style scoped>\n",
       "    .dataframe tbody tr th:only-of-type {\n",
       "        vertical-align: middle;\n",
       "    }\n",
       "\n",
       "    .dataframe tbody tr th {\n",
       "        vertical-align: top;\n",
       "    }\n",
       "\n",
       "    .dataframe thead th {\n",
       "        text-align: right;\n",
       "    }\n",
       "</style>\n",
       "<table border=\"1\" class=\"dataframe\">\n",
       "  <thead>\n",
       "    <tr style=\"text-align: right;\">\n",
       "      <th></th>\n",
       "      <th>0</th>\n",
       "      <th>1</th>\n",
       "      <th>2</th>\n",
       "      <th>3</th>\n",
       "      <th>4</th>\n",
       "      <th>5</th>\n",
       "      <th>6</th>\n",
       "      <th>7</th>\n",
       "      <th>8</th>\n",
       "      <th>9</th>\n",
       "    </tr>\n",
       "  </thead>\n",
       "  <tbody>\n",
       "    <tr>\n",
       "      <th>0</th>\n",
       "      <td>salaryPredictor</td>\n",
       "      <td>2019-05-27 17:59:34.679161</td>\n",
       "      <td>1</td>\n",
       "      <td>LR</td>\n",
       "      <td>None</td>\n",
       "      <td>None</td>\n",
       "      <td>0.001</td>\n",
       "      <td>None</td>\n",
       "      <td>None</td>\n",
       "      <td>1</td>\n",
       "    </tr>\n",
       "    <tr>\n",
       "      <th>1</th>\n",
       "      <td>salaryPredictor2</td>\n",
       "      <td>2019-05-27 18:06:49.640196</td>\n",
       "      <td>1</td>\n",
       "      <td>LR</td>\n",
       "      <td>salary~years</td>\n",
       "      <td>None</td>\n",
       "      <td>0.001</td>\n",
       "      <td>None</td>\n",
       "      <td>None</td>\n",
       "      <td>1</td>\n",
       "    </tr>\n",
       "    <tr>\n",
       "      <th>2</th>\n",
       "      <td>salaryPredictor3</td>\n",
       "      <td>2019-05-28 19:30:56.047145</td>\n",
       "      <td>1</td>\n",
       "      <td>LR</td>\n",
       "      <td>salary~years</td>\n",
       "      <td>None</td>\n",
       "      <td>0.001</td>\n",
       "      <td>None</td>\n",
       "      <td>None</td>\n",
       "      <td>1</td>\n",
       "    </tr>\n",
       "  </tbody>\n",
       "</table>\n",
       "</div>"
      ],
      "text/plain": [
       "                  0                           1  2   3             4     5  \\\n",
       "0   salaryPredictor  2019-05-27 17:59:34.679161  1  LR          None  None   \n",
       "1  salaryPredictor2  2019-05-27 18:06:49.640196  1  LR  salary~years  None   \n",
       "2  salaryPredictor3  2019-05-28 19:30:56.047145  1  LR  salary~years  None   \n",
       "\n",
       "       6     7     8  9  \n",
       "0  0.001  None  None  1  \n",
       "1  0.001  None  None  1  \n",
       "2  0.001  None  None  1  "
      ]
     },
     "execution_count": 24,
     "metadata": {},
     "output_type": "execute_result"
    }
   ],
   "source": [
    "df"
   ]
  },
  {
   "cell_type": "code",
   "execution_count": 28,
   "metadata": {},
   "outputs": [],
   "source": [
    "df = pd.read_sql(\"SELECT * FROM estimator\", db.connection())"
   ]
  },
  {
   "cell_type": "code",
   "execution_count": 29,
   "metadata": {},
   "outputs": [
    {
     "data": {
      "text/html": [
       "<div>\n",
       "<style scoped>\n",
       "    .dataframe tbody tr th:only-of-type {\n",
       "        vertical-align: middle;\n",
       "    }\n",
       "\n",
       "    .dataframe tbody tr th {\n",
       "        vertical-align: top;\n",
       "    }\n",
       "\n",
       "    .dataframe thead th {\n",
       "        text-align: right;\n",
       "    }\n",
       "</style>\n",
       "<table border=\"1\" class=\"dataframe\">\n",
       "  <thead>\n",
       "    <tr style=\"text-align: right;\">\n",
       "      <th></th>\n",
       "      <th>name</th>\n",
       "      <th>date_created</th>\n",
       "      <th>isAvailable</th>\n",
       "      <th>estimatorType</th>\n",
       "      <th>formula</th>\n",
       "      <th>loss</th>\n",
       "      <th>lr</th>\n",
       "      <th>optimizer</th>\n",
       "      <th>regularizer</th>\n",
       "      <th>trainable</th>\n",
       "    </tr>\n",
       "  </thead>\n",
       "  <tbody>\n",
       "    <tr>\n",
       "      <th>0</th>\n",
       "      <td>salaryPredictor</td>\n",
       "      <td>2019-05-27 17:59:34.679161</td>\n",
       "      <td>1</td>\n",
       "      <td>LR</td>\n",
       "      <td>None</td>\n",
       "      <td>None</td>\n",
       "      <td>0.001</td>\n",
       "      <td>None</td>\n",
       "      <td>None</td>\n",
       "      <td>1</td>\n",
       "    </tr>\n",
       "    <tr>\n",
       "      <th>1</th>\n",
       "      <td>salaryPredictor2</td>\n",
       "      <td>2019-05-27 18:06:49.640196</td>\n",
       "      <td>1</td>\n",
       "      <td>LR</td>\n",
       "      <td>salary~years</td>\n",
       "      <td>None</td>\n",
       "      <td>0.001</td>\n",
       "      <td>None</td>\n",
       "      <td>None</td>\n",
       "      <td>1</td>\n",
       "    </tr>\n",
       "    <tr>\n",
       "      <th>2</th>\n",
       "      <td>salaryPredictor3</td>\n",
       "      <td>2019-05-28 19:30:56.047145</td>\n",
       "      <td>1</td>\n",
       "      <td>LR</td>\n",
       "      <td>salary~years</td>\n",
       "      <td>None</td>\n",
       "      <td>0.001</td>\n",
       "      <td>None</td>\n",
       "      <td>None</td>\n",
       "      <td>1</td>\n",
       "    </tr>\n",
       "  </tbody>\n",
       "</table>\n",
       "</div>"
      ],
      "text/plain": [
       "               name                date_created  isAvailable estimatorType  \\\n",
       "0   salaryPredictor  2019-05-27 17:59:34.679161            1            LR   \n",
       "1  salaryPredictor2  2019-05-27 18:06:49.640196            1            LR   \n",
       "2  salaryPredictor3  2019-05-28 19:30:56.047145            1            LR   \n",
       "\n",
       "        formula  loss     lr optimizer regularizer  trainable  \n",
       "0          None  None  0.001      None        None          1  \n",
       "1  salary~years  None  0.001      None        None          1  \n",
       "2  salary~years  None  0.001      None        None          1  "
      ]
     },
     "execution_count": 29,
     "metadata": {},
     "output_type": "execute_result"
    }
   ],
   "source": [
    "df"
   ]
  },
  {
   "cell_type": "code",
   "execution_count": 30,
   "metadata": {},
   "outputs": [
    {
     "data": {
      "text/plain": [
       "0     salaryPredictor\n",
       "1    salaryPredictor2\n",
       "2    salaryPredictor3\n",
       "Name: name, dtype: object"
      ]
     },
     "execution_count": 30,
     "metadata": {},
     "output_type": "execute_result"
    }
   ],
   "source": [
    "df.name"
   ]
  },
  {
   "cell_type": "code",
   "execution_count": 33,
   "metadata": {},
   "outputs": [
    {
     "data": {
      "text/plain": [
       "numpy.ndarray"
      ]
     },
     "execution_count": 33,
     "metadata": {},
     "output_type": "execute_result"
    }
   ],
   "source": [
    "type(df['name'].values)"
   ]
  },
  {
   "cell_type": "code",
   "execution_count": 38,
   "metadata": {},
   "outputs": [
    {
     "data": {
      "text/plain": [
       "array([['salaryPredictor', None],\n",
       "       ['salaryPredictor2', 'salary~years'],\n",
       "       ['salaryPredictor3', 'salary~years']], dtype=object)"
      ]
     },
     "execution_count": 38,
     "metadata": {},
     "output_type": "execute_result"
    }
   ],
   "source": [
    "df[['name', 'formula']].values"
   ]
  },
  {
   "cell_type": "code",
   "execution_count": 39,
   "metadata": {},
   "outputs": [
    {
     "data": {
      "text/plain": [
       "array([['salaryPredictor', None],\n",
       "       ['salaryPredictor2', 'salary~years'],\n",
       "       ['salaryPredictor3', 'salary~years']], dtype=object)"
      ]
     },
     "execution_count": 39,
     "metadata": {},
     "output_type": "execute_result"
    }
   ],
   "source": [
    "df[['name', 'formula']].values"
   ]
  },
  {
   "cell_type": "code",
   "execution_count": 40,
   "metadata": {},
   "outputs": [
    {
     "data": {
      "text/plain": [
       "array([['salaryPredictor', None],\n",
       "       ['salaryPredictor2', 'salary~years'],\n",
       "       ['salaryPredictor3', 'salary~years']], dtype=object)"
      ]
     },
     "execution_count": 40,
     "metadata": {},
     "output_type": "execute_result"
    }
   ],
   "source": [
    "fields = ['name', 'formula']\n",
    "df[fields].values"
   ]
  },
  {
   "cell_type": "code",
   "execution_count": null,
   "metadata": {},
   "outputs": [],
   "source": []
  }
 ],
 "metadata": {
  "kernelspec": {
   "display_name": "Python 3",
   "language": "python",
   "name": "python3"
  },
  "language_info": {
   "codemirror_mode": {
    "name": "ipython",
    "version": 3
   },
   "file_extension": ".py",
   "mimetype": "text/x-python",
   "name": "python",
   "nbconvert_exporter": "python",
   "pygments_lexer": "ipython3",
   "version": "3.6.6"
  }
 },
 "nbformat": 4,
 "nbformat_minor": 2
}
