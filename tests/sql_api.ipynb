{
 "cells": [
  {
   "cell_type": "code",
   "execution_count": 1,
   "metadata": {},
   "outputs": [],
   "source": [
    "import sqlite3\n",
    "from sqlite3 import Error"
   ]
  },
  {
   "cell_type": "code",
   "execution_count": 20,
   "metadata": {},
   "outputs": [],
   "source": [
    "def create_connection(db_file):\n",
    "    '''\n",
    "    create a database connection to the SQLite database\n",
    "        specified by the db_file\n",
    "    return: Connection object or None\n",
    "    '''\n",
    "    try:\n",
    "        conn = sqlite3.connect(db_file)\n",
    "        print(\"Sucessfully connected.\")\n",
    "        return conn\n",
    "    except Error as e:\n",
    "        print(e)\n",
    " \n",
    "    return None\n",
    " \n",
    " \n",
    "def select_all_records(conn):\n",
    "    '''\n",
    "    Query all rows in the people table\n",
    "    :param conn: the Connection object\n",
    "    :return: Nothing\n",
    "    '''\n",
    "    cur = conn.cursor()\n",
    "    cur.execute(\"SELECT * FROM people\")\n",
    " \n",
    "    rows = cur.fetchall()\n",
    " \n",
    "    for row in rows:\n",
    "        print(row)\n",
    "        \n",
    "def show_table_names(conn):\n",
    "    '''\n",
    "    Prints list of all tables in databse\n",
    "    param: conn: the Connection object\n",
    "    return: Nothing\n",
    "    '''\n",
    "    cursor = conn.cursor()\n",
    "    cursor.execute(\"SELECT name FROM sqlite_master WHERE type='table';\")\n",
    "    table_list = cursor.fetchall()\n",
    "    print(table_list)\n",
    " \n",
    "def main():\n",
    "    database_name = \"sample_db.db\" #in present working dir\n",
    " \n",
    "    # create a database connection\n",
    "    conn = create_connection(database_name)\n",
    "    with conn:\n",
    "        print(\"1. Table names\")\n",
    "        show_table_names(conn)\n",
    " \n",
    "        print(\"1. Get all records\")\n",
    "        select_all_records(conn)"
   ]
  },
  {
   "cell_type": "code",
   "execution_count": 21,
   "metadata": {},
   "outputs": [
    {
     "name": "stdout",
     "output_type": "stream",
     "text": [
      "Sucessfully connected.\n",
      "1. Table names\n",
      "[('people',)]\n",
      "1. Get all records\n",
      "(1234, 'Vishal', 23)\n",
      "(1235, 'Muktadir', 23)\n"
     ]
    }
   ],
   "source": [
    "if __name__ == '__main__':\n",
    "    main()"
   ]
  },
  {
   "cell_type": "code",
   "execution_count": null,
   "metadata": {},
   "outputs": [],
   "source": []
  }
 ],
 "metadata": {
  "kernelspec": {
   "display_name": "Python 3",
   "language": "python",
   "name": "python3"
  },
  "language_info": {
   "codemirror_mode": {
    "name": "ipython",
    "version": 3
   },
   "file_extension": ".py",
   "mimetype": "text/x-python",
   "name": "python",
   "nbconvert_exporter": "python",
   "pygments_lexer": "ipython3",
   "version": "3.7.1"
  }
 },
 "nbformat": 4,
 "nbformat_minor": 2
}
