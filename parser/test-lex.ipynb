{
 "cells": [
  {
   "cell_type": "code",
   "execution_count": 1,
   "metadata": {},
   "outputs": [],
   "source": [
    "exec(open(\"inc_notebook.py\").read())\n",
    "\n",
    "import re\n",
    "\n",
    "import ply.lex as lex\n",
    "import dill\n"
   ]
  },
  {
   "cell_type": "code",
   "execution_count": 112,
   "metadata": {},
   "outputs": [],
   "source": [
    "with open(projectFolder + \"parser/lexer.dill\", \"rb\") as f:\n",
    "    lexer = dill.load(f)"
   ]
  },
  {
   "cell_type": "code",
   "execution_count": 113,
   "metadata": {},
   "outputs": [],
   "source": [
    "data = '''\n",
    "CREATE MODEL modName 10 5.5\n",
    "TRAINING PROFILE X\n",
    "ANDTRAINING_PROFILE BATCH_SIZE FORMULA_OPERATOR\n",
    "'''"
   ]
  },
  {
   "cell_type": "code",
   "execution_count": 114,
   "metadata": {},
   "outputs": [],
   "source": [
    "lexer.input(data)"
   ]
  },
  {
   "cell_type": "code",
   "execution_count": 115,
   "metadata": {},
   "outputs": [
    {
     "name": "stdout",
     "output_type": "stream",
     "text": [
      "I am in t_KEYWORD\n",
      "LexToken(CREATE,'CREATE',2,1)\n",
      "I am in t_KEYWORD\n",
      "LexToken(MODEL,'MODEL',2,8)\n",
      "LexToken(ALPHA_NUMERIC,'modName',2,14)\n",
      "LexToken(INTEGER,'10',2,22)\n",
      "LexToken(FLOAT,'5.5',2,25)\n",
      "I am in t_TRAINING_PROFILE\n",
      "LexToken(TRAINING_PROFILE,'TRAINING PROFILE',3,29)\n",
      "LexToken(ALPHA_NUMERIC,'X',3,46)\n",
      "I am in t_KEYWORD\n",
      "LexToken(ANDTRAINING_PROFILE,'ANDTRAINING_PROFILE',4,48)\n",
      "I am in t_KEYWORD\n",
      "LexToken(BATCH_SIZE,'BATCH_SIZE',4,68)\n",
      "I am in t_KEYWORD\n",
      "LexToken(FORMULA_OPERATOR,'FORMULA_OPERATOR',4,79)\n"
     ]
    }
   ],
   "source": [
    "while True:\n",
    "    tok = lexer.token()\n",
    "    if not tok:\n",
    "        break\n",
    "    print(tok)"
   ]
  },
  {
   "cell_type": "code",
   "execution_count": null,
   "metadata": {},
   "outputs": [],
   "source": [
    "lexer.input(data)\n",
    "while True:\n",
    "    tok = lexer.token()\n",
    "    if not tok:\n",
    "        break\n",
    "    print(tok)"
   ]
  },
  {
   "cell_type": "code",
   "execution_count": 72,
   "metadata": {},
   "outputs": [],
   "source": [
    "\n",
    "import re"
   ]
  },
  {
   "cell_type": "code",
   "execution_count": 78,
   "metadata": {},
   "outputs": [],
   "source": [
    "match = re.findall(r'TRAINING PROFILE', \"TRAINING PROFILE X\")"
   ]
  },
  {
   "cell_type": "code",
   "execution_count": 79,
   "metadata": {},
   "outputs": [
    {
     "name": "stdout",
     "output_type": "stream",
     "text": [
      "['TRAINING PROFILE']\n"
     ]
    }
   ],
   "source": [
    "print(match)"
   ]
  },
  {
   "cell_type": "code",
   "execution_count": null,
   "metadata": {},
   "outputs": [],
   "source": []
  }
 ],
 "metadata": {
  "kernelspec": {
   "display_name": "Python 3",
   "language": "python",
   "name": "python3"
  },
  "language_info": {
   "codemirror_mode": {
    "name": "ipython",
    "version": 3
   },
   "file_extension": ".py",
   "mimetype": "text/x-python",
   "name": "python",
   "nbconvert_exporter": "python",
   "pygments_lexer": "ipython3",
   "version": "3.6.6"
  }
 },
 "nbformat": 4,
 "nbformat_minor": 2
}
