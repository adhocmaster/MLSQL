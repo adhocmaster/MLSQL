{
 "cells": [
  {
   "cell_type": "code",
   "execution_count": 9,
   "metadata": {},
   "outputs": [],
   "source": [
    "exec(open(\"inc_notebook.py\").read())\n",
    "import ply.lex as lex\n",
    "import dill\n",
    "with open(projectFolder + \"parser/testLexer.dill\", \"rb\") as f:\n",
    "    lexer = dill.load(f)"
   ]
  },
  {
   "cell_type": "code",
   "execution_count": 10,
   "metadata": {},
   "outputs": [],
   "source": [
    "data = '''\n",
    "CREATE MODEL modName\n",
    "'''"
   ]
  },
  {
   "cell_type": "code",
   "execution_count": 11,
   "metadata": {},
   "outputs": [],
   "source": [
    "lexer.input(data)"
   ]
  },
  {
   "cell_type": "code",
   "execution_count": 12,
   "metadata": {},
   "outputs": [
    {
     "name": "stdout",
     "output_type": "stream",
     "text": [
      "LexToken(CREATE,'CREATE',2,1)\n",
      "LexToken(MODEL,'MODEL',2,8)\n",
      "LexToken(ALPHA_NUMERIC,'modName',2,14)\n"
     ]
    }
   ],
   "source": [
    "while True:\n",
    "    tok = lexer.token()\n",
    "    if not tok:\n",
    "        break\n",
    "    print(tok)"
   ]
  },
  {
   "cell_type": "code",
   "execution_count": null,
   "metadata": {},
   "outputs": [],
   "source": []
  }
 ],
 "metadata": {
  "kernelspec": {
   "display_name": "Python 3",
   "language": "python",
   "name": "python3"
  },
  "language_info": {
   "codemirror_mode": {
    "name": "ipython",
    "version": 3
   },
   "file_extension": ".py",
   "mimetype": "text/x-python",
   "name": "python",
   "nbconvert_exporter": "python",
   "pygments_lexer": "ipython3",
   "version": "3.6.6"
  }
 },
 "nbformat": 4,
 "nbformat_minor": 2
}
